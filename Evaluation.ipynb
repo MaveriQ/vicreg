{
 "cells": [
  {
   "cell_type": "code",
   "execution_count": 1,
   "id": "03e54146-56cd-4aed-957a-74db7b38ecbd",
   "metadata": {},
   "outputs": [],
   "source": [
    "from collections import namedtuple\n",
    "from models import VICReg\n",
    "import torch\n",
    "import transformers"
   ]
  },
  {
   "cell_type": "code",
   "execution_count": 2,
   "id": "efca4ae2-a2fb-41ba-ab98-01407ce15fa7",
   "metadata": {},
   "outputs": [],
   "source": [
    "Args = namedtuple('Args',['arch','mlp','sim_coeff','std_coeff','cov_coeff','use_param_weights'])"
   ]
  },
  {
   "cell_type": "code",
   "execution_count": 3,
   "id": "ce1924fa-c5cd-4025-8a00-0e225aa7f8a2",
   "metadata": {},
   "outputs": [],
   "source": [
    "args = Args(mlp='1024',sim_coeff=25,std_coeff=100,cov_coeff=5,arch='bert-base-uncased',use_param_weights=False)"
   ]
  },
  {
   "cell_type": "code",
   "execution_count": 4,
   "id": "9a6a425a-36e6-4ca4-8c6d-99e58f2fdb5c",
   "metadata": {},
   "outputs": [],
   "source": [
    "model = VICReg(args)"
   ]
  },
  {
   "cell_type": "code",
   "execution_count": 5,
   "id": "f469aadd-4980-4ac1-986f-37fb4c05f4c6",
   "metadata": {},
   "outputs": [],
   "source": [
    "# ckpt_loc = '/mounts/Users/cisintern/jabbar/data/vicreg/simcse_mlp1024_seq128_bs192_lr1e3_gpu4_epoch5_warmup1_sim25_std100_cov5/ckpt_final.pth'\n",
    "ckpt_loc = '/mounts/Users/cisintern/jabbar/data/vicreg/bookcorpus_mlp1024_bs384_lr1e3_gpu8_epoch1_warmup0.2_sim25_std100_cov5_run2/ckpt_step_115632.pth'"
   ]
  },
  {
   "cell_type": "code",
   "execution_count": 6,
   "id": "9655fed0-a589-4817-bb12-d28be62abeb5",
   "metadata": {},
   "outputs": [],
   "source": [
    "ckpt = torch.load(ckpt_loc, map_location=\"cpu\")"
   ]
  },
  {
   "cell_type": "code",
   "execution_count": 7,
   "id": "f8318e76-920a-4d6d-a36a-c3c5c826e6b6",
   "metadata": {},
   "outputs": [
    {
     "data": {
      "text/plain": [
       "dict_keys(['epoch', 'model', 'optimizer'])"
      ]
     },
     "execution_count": 7,
     "metadata": {},
     "output_type": "execute_result"
    }
   ],
   "source": [
    "ckpt.keys()"
   ]
  },
  {
   "cell_type": "code",
   "execution_count": 8,
   "id": "d6a1b7c2-1e62-4375-b529-c638f3c1be25",
   "metadata": {},
   "outputs": [
    {
     "data": {
      "text/plain": [
       "'backbone.embeddings.position_ids'"
      ]
     },
     "execution_count": 8,
     "metadata": {},
     "output_type": "execute_result"
    }
   ],
   "source": [
    "'module.backbone.embeddings.position_ids'.strip('module.')"
   ]
  },
  {
   "cell_type": "code",
   "execution_count": 9,
   "id": "0935dfd0-1dac-498b-9f9f-fbdaedbc24c7",
   "metadata": {
    "tags": []
   },
   "outputs": [],
   "source": [
    "state_dict = {}\n",
    "for k,v in ckpt['model'].items():\n",
    "    state_dict[k.strip('module.')]=v"
   ]
  },
  {
   "cell_type": "code",
   "execution_count": 10,
   "id": "90505ed1-f904-4e5c-8b81-526c295d94f7",
   "metadata": {
    "tags": []
   },
   "outputs": [
    {
     "data": {
      "text/plain": [
       "<All keys matched successfully>"
      ]
     },
     "execution_count": 10,
     "metadata": {},
     "output_type": "execute_result"
    }
   ],
   "source": [
    "model.load_state_dict(state_dict)"
   ]
  },
  {
   "cell_type": "code",
   "execution_count": 12,
   "id": "65a7d5be-5ecb-4609-bef8-1cc4739297dd",
   "metadata": {
    "tags": []
   },
   "outputs": [],
   "source": [
    "tokenizer = transformers.BertTokenizer.from_pretrained('bert-base-uncased')"
   ]
  },
  {
   "cell_type": "code",
   "execution_count": 13,
   "id": "d9dbdf30-ca67-4ee5-969f-6d160e02409c",
   "metadata": {
    "tags": []
   },
   "outputs": [],
   "source": [
    "enc = tokenizer('i am going to berlin',truncation=True,padding='max_length',max_length=128,return_tensors='pt')"
   ]
  },
  {
   "cell_type": "code",
   "execution_count": 14,
   "id": "16ecf961-d79e-4466-aa92-abb81181d997",
   "metadata": {},
   "outputs": [],
   "source": [
    "out = model(enc)"
   ]
  },
  {
   "cell_type": "code",
   "execution_count": 15,
   "id": "6d16a710-ce6b-4688-9787-7b5267d7a206",
   "metadata": {},
   "outputs": [
    {
     "data": {
      "text/plain": [
       "torch.Size([1, 1024])"
      ]
     },
     "execution_count": 15,
     "metadata": {},
     "output_type": "execute_result"
    }
   ],
   "source": [
    "out.shape"
   ]
  },
  {
   "cell_type": "code",
   "execution_count": 16,
   "id": "a7435e3e-eba7-4300-af33-2c84124d7609",
   "metadata": {},
   "outputs": [
    {
     "name": "stdout",
     "output_type": "stream",
     "text": [
      "bookcorpus_mlp1024_bs384_lr1e3_gpu8_epoch1_warmup0.2_param_alternate_sim25_std100_cov5\n",
      "bookcorpus_mlp1024_bs384_lr1e3_gpu8_epoch1_warmup0.2_sim25_std100_cov5\n",
      "debug\n",
      "simcse_bs64_lr0.2_gpu4_epoch5_warmup1_sim25_std25_cov1\n",
      "simcse_bs64_lr1e3_gpu4_epoch5_warmup1_sim25_std25_cov1\n",
      "simcse_bs64_lr1e3_gpu4_epoch5_warmup1_sim25_std25_cov1_clip1.0\n",
      "simcse_mlp1024_bs192_lr1e3_gpu4_epoch5_warmup1_sim25_std100_cov5\n",
      "simcse_mlp1024_bs384_lr1e3_gpu2_epoch2_warmup0.5_sim25_std100_cov5_clip1.0\n",
      "simcse_mlp1024_bs384_lr1e3_gpu8_epoch10_warmup2.5_sim25_std100_cov1_clip1.0\n",
      "simcse_mlp1024_bs64_lr1e3_gpu4_epoch1_warmup0.25_sim25_std25_cov1_clip1.0\n",
      "simcse_mlp1024_bs96_lr1e3_gpu2_epoch1_warmup0.25_sim25_std100_cov1_clip1.0\n",
      "simcse_mlp1024_bs96_lr1e3_gpu2_epoch2_warmup0.5_param_sim25_std100_cov5_clip1.0\n",
      "simcse_mlp1024_bs96_lr1e3_gpu2_epoch2_warmup0.5_sim25_std100_cov10_clip1.0\n",
      "simcse_mlp1024_bs96_lr1e3_gpu2_epoch2_warmup0.5_sim25_std100_cov25_clip1.0\n",
      "simcse_mlp1024_bs96_lr1e3_gpu2_epoch2_warmup0.5_sim25_std100_cov5_clip1.0\n",
      "simcse_mlp1024_bs96_lr1e3_gpu2_epoch2_warmup0.5_sim2.5_std10_cov1_clip1.0\n",
      "simcse_mlp1024_bs96_lr1e3_gpu2_epoch2_warmup0.5_sim25_std25_cov1_param_clip1.0\n",
      "simcse_mlp1024_bs96_lr1e3_gpu2_epoch2_warmup0.5_sim25_std25_cov5_param_alternate_clip1.0\n",
      "simcse_mlp1024_bs96_lr1e3_gpu2_epoch2_warmup0.5_sim25_std25_cov5_param_clip1.0\n",
      "simcse_mlp1024_bs96_lr1e3_gpu4_epoch1_warmup0.25_sim100_std25_cov1_clip1.0\n",
      "simcse_mlp1024_bs96_lr1e3_gpu4_epoch1_warmup0.25_sim25_std25_cov1_clip1.0\n",
      "simcse_mlp1024_bs96_lr1e4_gpu4_epoch1_warmup0.25_sim25_std25_cov1_clip1.0\n",
      "simcse_mlp1024_seq128_bs192_lr1e3_gpu4_epoch5_warmup1_sim25_std100_cov5\n",
      "simcse_mlp1024_seq256_bs64_lr1e3_gpu2_epoch2_warmup0.5_param_sim25_std100_cov5\n",
      "simcse_mlp1024_seq256_bs64_lr1e3_gpu2_epoch2_warmup0.5_sim25_std100_cov5\n",
      "tb_logs\n",
      "test\n",
      "testrun\n"
     ]
    }
   ],
   "source": [
    "!ls /mounts/Users/cisintern/jabbar/data/vicreg/"
   ]
  },
  {
   "cell_type": "code",
   "execution_count": null,
   "id": "12b9e0a0-baa0-4d3f-9359-05e5812331c7",
   "metadata": {},
   "outputs": [],
   "source": []
  }
 ],
 "metadata": {
  "kernelspec": {
   "display_name": "Python 3 (ipykernel)",
   "language": "python",
   "name": "python3"
  },
  "language_info": {
   "codemirror_mode": {
    "name": "ipython",
    "version": 3
   },
   "file_extension": ".py",
   "mimetype": "text/x-python",
   "name": "python",
   "nbconvert_exporter": "python",
   "pygments_lexer": "ipython3",
   "version": "3.9.7"
  }
 },
 "nbformat": 4,
 "nbformat_minor": 5
}
